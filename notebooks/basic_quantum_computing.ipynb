{
 "cells": [
  {
   "cell_type": "markdown",
   "metadata": {},
   "source": [
    "## What is Quantum Computing?\n",
    "\n",
    "Quantum computing is a type of computation that harnesses the collective properties of quantum states, such as superposition, interference, and entanglement, to perform calculations. Unlike classical computers, which use bits as the smallest unit of data, quantum computers use quantum bits or qubits."
   ]
  },
  {
   "cell_type": "markdown",
   "metadata": {},
   "source": [
    "## Basic Quantum Computing Concepts\n",
    "\n",
    "### Qubits\n",
    "\n",
    "A qubit is the basic unit of quantum information. Unlike a classical bit, which can be either 0 or 1, a qubit can be in a superposition of both states.\n",
    "\n",
    "### Superposition\n",
    "\n",
    "Superposition is the ability of a quantum system to be in multiple states at the same time until it is measured.\n",
    "\n",
    "### Entanglement\n",
    "\n",
    "Entanglement is a phenomenon where quantum particles become interconnected and the state of one particle can instantaneously affect the state of another, no matter the distance between them."
   ]
  },
  {
   "cell_type": "markdown",
   "metadata": {},
   "source": [
    "### Quantum Gates\n",
    "\n",
    "Quantum gates are the building blocks of quantum circuits. They are the quantum equivalent of classical logic gates and are used to manipulate qubits. Some common quantum gates include:\n",
    "\n",
    "- **Hadamard Gate (H)**: Creates a superposition state.\n",
    "- **Pauli-X Gate (X)**: Flips the state of a qubit (like a classical NOT gate).\n",
    "- **Pauli-Y Gate (Y)**: Similar to the Pauli-X gate but includes a phase flip.\n",
    "- **Pauli-Z Gate (Z)**: Flips the phase of the qubit.\n",
    "- **CNOT Gate**: A two-qubit gate that flips the state of the second qubit if the first qubit is in state |1>.\n",
    "\n",
    "These gates can be combined to create complex quantum circuits that perform various computations."
   ]
  },
  {
   "cell_type": "markdown",
   "metadata": {},
   "source": [
    "## Example: Quantum Circuit\n",
    "\n",
    "A quantum circuit is a model for quantum computation in which a computation is a sequence of quantum gates, which are reversible transformations on a quantum mechanical analog of an n-bit register. Quantum circuits are represented by quantum gates acting on qubits, and they are the foundation of quantum algorithms.\n",
    "\n",
    "### Components of a Quantum Circuit\n",
    "\n",
    "1. **Qubits**: The basic units of quantum information.\n",
    "2. **Quantum Gates**: Operations that change the state of qubits.\n",
    "3. **Measurement**: The process of extracting classical information from qubits.\n",
    "\n",
    "### Building a Quantum Circuit\n",
    "\n",
    "To build a quantum circuit, you need to:\n",
    "1. Initialize the qubits.\n",
    "2. Apply quantum gates to manipulate the qubits.\n",
    "3. Measure the qubits to obtain the output.\n",
    "\n",
    "Quantum circuits can be visualized using circuit diagrams, which show the sequence of gates applied to each qubit.\n",
    "```"
   ]
  },
  {
   "cell_type": "code",
   "execution_count": 1,
   "metadata": {},
   "outputs": [
    {
     "data": {
      "image/png": "[encoded data removed]",
      "text/plain": [
       "<Figure size 269.064x200.667 with 1 Axes>"
      ]
     },
     "execution_count": 1,
     "metadata": {},
     "output_type": "execute_result"
    }
   ],
   "source": [
    "from qiskit import QuantumCircuit\n",
    "from qiskit_aer import AerSimulator\n",
    "\n",
    "# Create a Quantum Circuit with one qubit and one classical bit\n",
    "qc = QuantumCircuit(1, 1)\n",
    "\n",
    "# Apply a Hadamard gate to the qubit to put it in superposition\n",
    "qc.h(0)\n",
    "\n",
    "# Measure the qubit\n",
    "qc.measure(0, 0)\n",
    "\n",
    "# Draw the circuit\n",
    "qc.draw('mpl')\n"
   ]
  },
  {
   "cell_type": "markdown",
   "metadata": {},
   "source": [
    "### Running the Circuit"
   ]
  },
  {
   "cell_type": "code",
   "execution_count": 5,
   "metadata": {},
   "outputs": [
    {
     "name": "stdout",
     "output_type": "stream",
     "text": [
      "\n",
      "Total count for 0 and 1 are: {'1': 507, '0': 493}\n"
     ]
    }
   ],
   "source": [
    "# Use Aer's qasm_simulator\n",
    "simulator = AerSimulator()\n",
    "\n",
    "# Execute the circuit on the qasm simulator\n",
    "job = simulator.run(qc, shots=1000)\n",
    "\n",
    "# Grab results from the job\n",
    "result = job.result()\n",
    "\n",
    "# Returns counts\n",
    "counts = result.get_counts(qc)\n",
    "print(\"\\nTotal count for 0 and 1 are:\", counts)"
   ]
  },
  {
   "cell_type": "markdown",
   "metadata": {},
   "source": [
    "## Interpretation of Quantum Circuit Results\n",
    "\n",
    "After running a quantum circuit and obtaining the measurement results, it's important to interpret what these results mean. Here, we will discuss how to understand the output of a quantum circuit, particularly focusing on the measurement counts.\n",
    "\n",
    "### Measurement Results\n",
    "\n",
    "When we measure a qubit, we collapse its quantum state to one of the basis states, typically |0⟩ or |1⟩. The measurement results are collected over many runs (shots) of the circuit to gather statistics on the outcomes.\n",
    "\n",
    "### Example Results\n",
    "\n",
    "Suppose we have the following measurement results after running a quantum circuit 1000 times: Total count for 0 and 1 are: {'1': 507, '0': 493}\n",
    "\n",
    "\n",
    "### Interpretation\n",
    "\n",
    "1. **Superposition**:\n",
    "    - If the circuit includes a Hadamard gate, it puts the qubit in a superposition state. The Hadamard gate transforms the state |0⟩ into an equal superposition of |0⟩ and |1⟩.\n",
    "    - The measurement results show that the qubit was measured in the state |0⟩ 502 times and in the state |1⟩ 498 times. This close to a 50-50 distribution indicates that the qubit was in an equal superposition state before measurement.\n",
    "\n",
    "2. **Probabilities**:\n",
    "    - The counts can be used to estimate the probabilities of each outcome. In this example, the probability of measuring |0⟩ is approximately 502/1000 = 0.502, and the probability of measuring |1⟩ is approximately 498/1000 = 0.498.\n",
    "    - These probabilities are close to the expected 0.5 for each state in an ideal equal superposition.\n",
    "\n",
    "3. **Noise and Errors**:\n",
    "    - In a real quantum computer, noise and errors can affect the results, leading to deviations from the ideal probabilities. In a simulator, the results are ideal unless noise models are explicitly included.\n",
    "    - The slight difference between the counts for |0⟩ and |1⟩ can be attributed to statistical fluctuations, which are normal in quantum experiments.\n",
    "\n",
    "### Conclusion\n",
    "\n",
    "The measurement results provide insight into the quantum state of the qubits after applying the quantum gates. By analyzing the counts, we can understand the behavior of the quantum circuit and verify that it performs as expected. This is a fundamental aspect of quantum computing experiments and simulations.\n",
    "\n",
    "Understanding the interpretation of measurement results is crucial for developing and debugging quantum algorithms, as well as for gaining insights into the underlying quantum phenomena."
   ]
  },
  {
   "cell_type": "markdown",
   "metadata": {},
   "source": [
    "## Conclusion\n",
    "\n",
    "This notebook provided an introduction to quantum computing and demonstrated how to create and run a simple quantum circuit using Qiskit. You should now have a basic understanding of quantum computing concepts such as qubits, superposition, entanglement, and quantum gates. Additionally, you learned how to build a quantum circuit, run it on a simulator, and interpret the measurement results. For more detailed information, please refer to the other notebooks and documentation in this repository."
   ]
  }
 ],
 "metadata": {
  "kernelspec": {
   "display_name": "Python 3",
   "language": "python",
   "name": "python3"
  },
  "language_info": {
   "codemirror_mode": {
    "name": "ipython",
    "version": 3
   },
   "file_extension": ".py",
   "mimetype": "text/x-python",
   "name": "python",
   "nbconvert_exporter": "python",
   "pygments_lexer": "ipython3",
   "version": "3.11.9"
  }
 },
 "nbformat": 4,
 "nbformat_minor": 2
}
