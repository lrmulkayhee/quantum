{
 "cells": [
  {
   "cell_type": "markdown",
   "metadata": {},
   "source": [
    "# Basics of Quantum Information\n",
    "\n",
    "## Introduction\n",
    "Quantum information science is an interdisciplinary field that combines quantum mechanics and information theory. This notebook provides an introduction to the fundamental concepts of quantum information, starting with classical information.\n",
    "\n",
    "## Classical Information\n",
    "\n",
    "### Classical Bits\n",
    "A classical bit is the basic unit of classical information, which can be in one of two states: 0 or 1.\n",
    "\n",
    "### Classical States and Probability Vectors\n",
    "In classical information theory, the state of a system can be described using probability vectors.\n",
    "\n",
    "#### Classical State Set\n",
    "The set of all possible states for a classical bit is called a classical state set, denoted by uppercase sigma. An example of the binary set (or a classical set containing only 0 and 1) is show below.\n",
    "```math\n",
    "\\Sigma = \\{0, 1\\}\n",
    "```\n",
    "\n",
    "#### Example: Probability Vector\n",
    "A probability vector for a classical bit might look like this:\n",
    "```math\n",
    "\\mathbf{p} = \\begin{pmatrix} p_0 \\\\ p_1 \\end{pmatrix}\n",
    "```\n",
    "\n",
    "where (p_0) is the probability of the bit being in state 0, and ( p_1 ) is the probability of the bit being in state 1. The probabilities must sum to 1.\n",
    "```math\n",
    "p_0 + p_1 = 1\n",
    "```\n",
    "\n",
    "### Measuring Probability States\n",
    "Measurement in classical information theory involves determining the state of a system based on its probability distribution.\n",
    "\n",
    "#### Example: Measuring a Classical Bit\n",
    "If a classical bit has a probability vector\n",
    "```math\n",
    "\\mathbf{p} = \\begin{pmatrix} 0.7 \\\\ 0.3 \\end{pmatrix}\n",
    "```\n",
    "then there is a 70% chance of measuring the bit in state 0 and a 30% chance of measuring it in state 1.\n",
    "\n",
    "### Classical Operations\n",
    "Classical operations manipulate the states of classical bits. Common operations include AND, OR, and NOT gates.\n",
    "\n",
    "#### Example: Classical NOT Gate\n",
    "The NOT gate flips the state of a bit:\n",
    "```math\n",
    "{NOT}(0) = 1\n",
    "```\n",
    "```math\n",
    "{NOT}(1) = 0\n",
    "```\n",
    "\n"
   ]
  },
  {
   "cell_type": "code",
   "execution_count": null,
   "metadata": {},
   "outputs": [],
   "source": []
  },
  {
   "cell_type": "code",
   "execution_count": null,
   "metadata": {},
   "outputs": [],
   "source": []
  },
  {
   "cell_type": "code",
   "execution_count": null,
   "metadata": {},
   "outputs": [],
   "source": []
  }
 ],
 "metadata": {
  "language_info": {
   "name": "python"
  }
 },
 "nbformat": 4,
 "nbformat_minor": 2
}
