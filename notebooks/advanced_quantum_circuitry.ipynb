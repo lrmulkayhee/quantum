{
 "cells": [
  {
   "cell_type": "markdown",
   "metadata": {},
   "source": [
    "# Advanced Quantum Circuitry\n",
    "\n",
    "Welcome to the Advanced Quantum Circuitry notebook. This notebook will cover advanced topics in quantum circuitry, including circuit optimization, error correction, and advanced quantum gates. Understanding these concepts is crucial for developing efficient and robust quantum circuits.\n",
    "\n",
    "First lets visualize a basic quantum circuit:"
   ]
  },
  {
   "cell_type": "code",
   "execution_count": 1,
   "metadata": {},
   "outputs": [
    {
     "name": "stdout",
     "output_type": "stream",
     "text": [
      "Original Circuit:\n"
     ]
    },
    {
     "data": {
      "image/png": "[encoded data removed]",
      "text/plain": [
       "<Figure size 436.286x117.056 with 1 Axes>"
      ]
     },
     "execution_count": 1,
     "metadata": {},
     "output_type": "execute_result"
    }
   ],
   "source": [
    "from qiskit import QuantumCircuit\n",
    "\n",
    "# Create a quantum circuit with redundant gates\n",
    "qc = QuantumCircuit(1)\n",
    "qc.x(0)\n",
    "qc.x(0)\n",
    "qc.h(0)\n",
    "qc.h(0)\n",
    "\n",
    "# Visualize the original circuit\n",
    "print(\"Original Circuit:\")\n",
    "qc.draw('mpl')"
   ]
  },
  {
   "cell_type": "markdown",
   "metadata": {},
   "source": [
    "## Quantum Circuit Optimization\n",
    "\n",
    "Optimizing quantum circuits is essential for reducing the number of gates and the depth of the circuit, which in turn reduces the error rates and improves the performance of quantum algorithms.\n",
    "\n",
    "### Techniques for Optimization\n",
    "\n",
    "1. **Gate Cancellation**: Identifying and removing pairs of gates that cancel each other out.\n",
    "2. **Gate Merging**: Combining multiple gates into a single gate to reduce the overall gate count.\n",
    "3. **Circuit Rewriting**: Rewriting parts of the circuit using more efficient gate sequences.\n",
    "\n",
    "### Example: Gate Cancellation\n",
    "\n",
    "Let's demonstrate gate cancellation using Qiskit."
   ]
  },
  {
   "cell_type": "code",
   "execution_count": 2,
   "metadata": {},
   "outputs": [
    {
     "name": "stdout",
     "output_type": "stream",
     "text": [
      "Optimized Circuit:\n"
     ]
    },
    {
     "data": {
      "image/png": "[encoded data removed]",
      "text/plain": [
       "<Figure size 436.286x117.056 with 1 Axes>"
      ]
     },
     "execution_count": 2,
     "metadata": {},
     "output_type": "execute_result"
    }
   ],
   "source": [
    "# Optimize the circuit by removing redundant gates\n",
    "optimized_qc = qc.decompose()\n",
    "\n",
    "# Visualize the optimized circuits\n",
    "print(\"Optimized Circuit:\")\n",
    "optimized_qc.draw('mpl')"
   ]
  },
  {
   "cell_type": "markdown",
   "metadata": {},
   "source": [
    "## Quantum Error Correction\n",
    "\n",
    "Quantum error correction is crucial for protecting quantum information from errors due to decoherence and other quantum noise.\n",
    "\n",
    "### Common Quantum Error Correction Codes\n",
    "\n",
    "1. **Shor Code**: Encodes one qubit into nine qubits to correct arbitrary single-qubit errors.\n",
    "2. **Steane Code**: Encodes one qubit into seven qubits to correct single-qubit errors.\n",
    "\n",
    "### Example: Implementing a Simple Error Correction Code\n",
    "\n",
    "Let's implement a simple three-qubit bit-flip code using Qiskit."
   ]
  },
  {
   "cell_type": "code",
   "execution_count": 6,
   "metadata": {},
   "outputs": [
    {
     "data": {
      "image/png": "[encoded data removed]",
      "text/plain": [
       "<Figure size 621.941x367.889 with 1 Axes>"
      ]
     },
     "execution_count": 6,
     "metadata": {},
     "output_type": "execute_result"
    }
   ],
   "source": [
    "from qiskit import QuantumCircuit\n",
    "from qiskit_aer import AerSimulator\n",
    "\n",
    "# Create a quantum circuit for the three-qubit bit-flip code\n",
    "qc = QuantumCircuit(3, 1)\n",
    "\n",
    "# Encode the logical qubit\n",
    "qc.cx(0, 1)\n",
    "qc.cx(0, 2)\n",
    "\n",
    "# Introduce an error (X gate on the second qubit)\n",
    "qc.x(1)\n",
    "\n",
    "# Decode the logical qubit\n",
    "qc.cx(0, 1)\n",
    "qc.cx(0, 2)\n",
    "qc.ccx(1, 2, 0)\n",
    "\n",
    "\n",
    "# Visualize the circuit\n",
    "qc.draw('mpl')\n"
   ]
  },
  {
   "cell_type": "code",
   "execution_count": 7,
   "metadata": {},
   "outputs": [
    {
     "name": "stdout",
     "output_type": "stream",
     "text": [
      "Measurement results: {'0': 1024}\n"
     ]
    }
   ],
   "source": [
    "# Measure the logical qubit\n",
    "qc.measure(0, 0)\n",
    "\n",
    "# Simulate the circuit\n",
    "simulator = AerSimulator()\n",
    "result = simulator.run(qc).result()\n",
    "counts = result.get_counts(qc)\n",
    "print(\"Measurement results:\", counts)"
   ]
  },
  {
   "cell_type": "markdown",
   "metadata": {},
   "source": [
    "The measurement results {'0': 1024} mean that in all 1024 runs of the circuit, the first qubit was measured in the state |0⟩. This indicates that the error correction process was successful, and the logical qubit was correctly restored to its original state |0⟩ despite the introduced error."
   ]
  },
  {
   "cell_type": "markdown",
   "metadata": {},
   "source": [
    "## Advanced Quantum Gates\n",
    "\n",
    "Advanced quantum gates are essential for building complex quantum circuits. Here, we will explore some of these gates.\n",
    "\n",
    "### Toffoli Gate (CCX)\n",
    "\n",
    "The Toffoli gate is a three-qubit gate that flips the state of the target qubit if both control qubits are in state |1>.\n",
    "\n",
    "### Fredkin Gate (CSWAP)\n",
    "\n",
    "The Fredkin gate is a three-qubit gate that swaps the states of the second and third qubits if the first qubit is in state |1>.\n",
    "\n",
    "### Multi-Control Gates\n",
    "\n",
    "Multi-control gates have more than one control qubit and are used for complex operations.\n",
    "\n",
    "### Example: Toffoli Gate\n",
    "\n",
    "Let's implement the Toffoli gate using Qiskit."
   ]
  },
  {
   "cell_type": "code",
   "execution_count": null,
   "metadata": {},
   "outputs": [],
   "source": [
    "from qiskit import QuantumCircuit\n",
    "\n",
    "# Create a quantum circuit with three qubits\n",
    "qc = QuantumCircuit(3)\n",
    "\n",
    "# Apply the Toffoli gate (CCX)\n",
    "qc.ccx(0, 1, 2)\n",
    "\n",
    "# Visualize the circuit\n",
    "qc.draw('mpl')"
   ]
  },
  {
   "cell_type": "markdown",
   "metadata": {},
   "source": [
    "## Universal Gate Sets\n",
    "\n",
    "A universal gate set is a set of quantum gates that can be used to approximate any unitary operation to arbitrary precision. Universal gate sets are essential for building general-purpose quantum computers.\n",
    "\n",
    "### Examples of Universal Gate Sets\n",
    "\n",
    "1. **Clifford+T Gate Set**\n",
    "   - Consists of the Clifford gates (H, S, CNOT) and the T gate.\n",
    "   - Proven to be universal for quantum computation.\n",
    "\n",
    "2. **{H, T, CNOT} Gate Set**\n",
    "   - Another common universal gate set.\n",
    "   - Includes the Hadamard gate (H), the π/8 gate (T), and the CNOT gate.\n",
    "\n",
    "3. **{X, Y, Z, H, S, T, CNOT} Gate Set**\n",
    "   - A more comprehensive universal gate set.\n",
    "   - Includes the Pauli gates (X, Y, Z), the Hadamard gate (H), the phase gate (S), the π/8 gate (T), and the CNOT gate.\n",
    "\n",
    "### Proof of Universality\n",
    "\n",
    "To prove that a gate set is universal, we need to show that any unitary operation can be approximated using a finite sequence of gates from the set. This involves demonstrating that the gate set can generate a dense subset of the unitary group."
   ]
  },
  {
   "cell_type": "markdown",
   "metadata": {},
   "source": [
    "## Example: Universal Gate Set Implementation\n",
    "\n",
    "Let's implement a universal gate set in Qiskit and create a simple quantum circuit using this gate set.\n",
    "\n",
    "### Implementing the {H, T, CNOT} Gate Set\n",
    "\n",
    "We will use the Hadamard gate (H), the π/8 gate (T), and the CNOT gate to create a simple quantum circuit."
   ]
  },
  {
   "cell_type": "code",
   "execution_count": 1,
   "metadata": {},
   "outputs": [
    {
     "ename": "NameError",
     "evalue": "name 'QuantumCircuit' is not defined",
     "output_type": "error",
     "traceback": [
      "\u001b[1;31m---------------------------------------------------------------------------\u001b[0m",
      "\u001b[1;31mNameError\u001b[0m                                 Traceback (most recent call last)",
      "Cell \u001b[1;32mIn[1], line 2\u001b[0m\n\u001b[0;32m      1\u001b[0m \u001b[38;5;66;03m# Create a quantum circuit with two qubits\u001b[39;00m\n\u001b[1;32m----> 2\u001b[0m qc \u001b[38;5;241m=\u001b[39m \u001b[43mQuantumCircuit\u001b[49m(\u001b[38;5;241m2\u001b[39m)\n\u001b[0;32m      4\u001b[0m \u001b[38;5;66;03m# Apply a Hadamard gate to the first qubit\u001b[39;00m\n\u001b[0;32m      5\u001b[0m qc\u001b[38;5;241m.\u001b[39mh(\u001b[38;5;241m0\u001b[39m)\n",
      "\u001b[1;31mNameError\u001b[0m: name 'QuantumCircuit' is not defined"
     ]
    }
   ],
   "source": [
    "# Create a quantum circuit with two qubits\n",
    "qc = QuantumCircuit(2)\n",
    "\n",
    "# Apply a Hadamard gate to the first qubit\n",
    "qc.h(0)\n",
    "\n",
    "# Apply a T gate to the first qubit\n",
    "qc.t(0)\n",
    "\n",
    "# Apply a CNOT gate with the first qubit as control and the second qubit as target\n",
    "qc.cx(0, 1)\n",
    "\n",
    "# Visualize the circuit\n",
    "qc.draw('mpl')"
   ]
  },
  {
   "cell_type": "markdown",
   "metadata": {},
   "source": [
    "## Quantum Circuit Simulation\n",
    "\n",
    "Quantum circuits can be used to simulate physical systems. Here, we will simulate a simple molecule.\n",
    "\n",
    "### Example: Simulating a Simple Molecule\n",
    "\n",
    "Let's simulate the hydrogen molecule using Qiskit."
   ]
  },
  {
   "cell_type": "code",
   "execution_count": null,
   "metadata": {},
   "outputs": [],
   "source": [
    "from qiskit import QuantumCircuit, Aer, execute\n",
    "\n",
    "# Create a quantum circuit to simulate the hydrogen molecule\n",
    "qc = QuantumCircuit(2)\n",
    "\n",
    "# Apply gates to simulate the molecule\n",
    "qc.h(0)\n",
    "qc.cx(0, 1)\n",
    "qc.u1(1.0, 0)\n",
    "qc.cx(0, 1)\n",
    "qc.h(0)\n",
    "\n",
    "# Visualize the circuit\n",
    "qc.draw('mpl')\n",
    "\n",
    "# Simulate the circuit\n",
    "simulator = Aer.get_backend('statevector_simulator')\n",
    "result = execute(qc, simulator).result()\n",
    "statevector = result.get_statevector()\n",
    "print(\"Statevector:\", statevector)"
   ]
  },
  {
   "cell_type": "markdown",
   "metadata": {},
   "source": [
    "## Conclusion\n",
    "\n",
    "This notebook covered advanced topics in quantum circuitry, including circuit optimization, error correction, and advanced quantum gates. Understanding these concepts is crucial for developing efficient and robust quantum circuits. For further study, explore more advanced topics and techniques in quantum computing."
   ]
  }
 ],
 "metadata": {
  "kernelspec": {
   "display_name": "Python 3",
   "language": "python",
   "name": "python3"
  },
  "language_info": {
   "codemirror_mode": {
    "name": "ipython",
    "version": 3
   },
   "file_extension": ".py",
   "mimetype": "text/x-python",
   "name": "python",
   "nbconvert_exporter": "python",
   "pygments_lexer": "ipython3",
   "version": "3.11.9"
  }
 },
 "nbformat": 4,
 "nbformat_minor": 2
}
