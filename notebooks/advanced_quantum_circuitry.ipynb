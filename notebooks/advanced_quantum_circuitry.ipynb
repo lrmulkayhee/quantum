{
 "cells": [
  {
   "cell_type": "markdown",
   "metadata": {},
   "source": [
    "# Advanced Quantum Circuitry\n",
    "\n",
    "Welcome to the Advanced Quantum Circuitry notebook. This notebook will cover advanced topics in quantum circuitry, including circuit optimization, error correction, and advanced quantum gates. Understanding these concepts is crucial for developing efficient and robust quantum circuits.\n",
    "\n",
    "First lets visualize a basic quantum circuit:"
   ]
  },
  {
   "cell_type": "markdown",
   "metadata": {},
   "source": [
    "## Quantum Circuit Optimization\n",
    "\n",
    "Optimizing quantum circuits is essential for reducing the number of gates and the depth of the circuit, which in turn reduces the error rates and improves the performance of quantum algorithms.\n",
    "\n",
    "### Techniques for Optimization\n",
    "\n",
    "1. **Gate Cancellation**: Identifying and removing pairs of gates that cancel each other out.\n",
    "2. **Gate Merging**: Combining multiple gates into a single gate to reduce the overall gate count.\n",
    "3. **Circuit Rewriting**: Rewriting parts of the circuit using more efficient gate sequences.\n",
    "\n",
    "### Example: Gate Cancellation\n",
    "\n",
    "Let's demonstrate gate cancellation using Qiskit."
   ]
  },
  {
   "cell_type": "code",
   "execution_count": 31,
   "metadata": {},
   "outputs": [
    {
     "name": "stdout",
     "output_type": "stream",
     "text": [
      "Original Circuit:\n"
     ]
    },
    {
     "data": {
      "image/png": "[encoded data removed]",
      "text/plain": [
       "<Figure size 436.286x117.056 with 1 Axes>"
      ]
     },
     "execution_count": 31,
     "metadata": {},
     "output_type": "execute_result"
    }
   ],
   "source": [
    "from qiskit import QuantumCircuit\n",
    "\n",
    "# Create a quantum circuit with redundant gates\n",
    "qc = QuantumCircuit(1)\n",
    "qc.x(0)\n",
    "qc.x(0)\n",
    "qc.h(0)\n",
    "qc.h(0)\n",
    "\n",
    "# Visualize the original circuit\n",
    "print(\"Original Circuit:\")\n",
    "qc.draw('mpl')"
   ]
  },
  {
   "cell_type": "code",
   "execution_count": 32,
   "metadata": {},
   "outputs": [
    {
     "name": "stdout",
     "output_type": "stream",
     "text": [
      "Optimized Circuit:\n"
     ]
    },
    {
     "data": {
      "image/png": "[encoded data removed]",
      "text/plain": [
       "<Figure size 436.286x117.056 with 1 Axes>"
      ]
     },
     "execution_count": 32,
     "metadata": {},
     "output_type": "execute_result"
    }
   ],
   "source": [
    "# Optimize the circuit by removing redundant gates\n",
    "optimized_qc = qc.decompose()\n",
    "\n",
    "# Visualize the optimized circuits\n",
    "print(\"Optimized Circuit:\")\n",
    "optimized_qc.draw('mpl')"
   ]
  },
  {
   "cell_type": "markdown",
   "metadata": {},
   "source": [
    "### Example: Gate Merging\n",
    "\n",
    "Let's demonstrate gate merging using Qiskit."
   ]
  },
  {
   "cell_type": "code",
   "execution_count": 33,
   "metadata": {},
   "outputs": [
    {
     "name": "stdout",
     "output_type": "stream",
     "text": [
      "Original Circuit:\n"
     ]
    },
    {
     "data": {
      "image/png": "[encoded data removed]",
      "text/plain": [
       "<Figure size 269.064x117.056 with 1 Axes>"
      ]
     },
     "execution_count": 33,
     "metadata": {},
     "output_type": "execute_result"
    }
   ],
   "source": [
    "from qiskit import QuantumCircuit\n",
    "\n",
    "# Create a quantum circuit with consecutive rotation gates\n",
    "qc = QuantumCircuit(1)\n",
    "qc.rx(0.5, 0)\n",
    "qc.rx(0.5, 0)\n",
    "\n",
    "# Visualize the original circuit\n",
    "print(\"Original Circuit:\")\n",
    "qc.draw('mpl')"
   ]
  },
  {
   "cell_type": "code",
   "execution_count": 34,
   "metadata": {},
   "outputs": [
    {
     "name": "stdout",
     "output_type": "stream",
     "text": [
      "Optimized Circuit:\n"
     ]
    },
    {
     "data": {
      "image/png": "[encoded data removed]",
      "text/plain": [
       "<Figure size 185.453x117.056 with 1 Axes>"
      ]
     },
     "execution_count": 34,
     "metadata": {},
     "output_type": "execute_result"
    }
   ],
   "source": [
    "# Optimize the circuit by merging consecutive rotation gates\n",
    "optimized_qc = QuantumCircuit(1)\n",
    "optimized_qc.rx(1.0, 0)  # Combine the two rx(0.5) gates into a single rx(1.0) gate\n",
    "\n",
    "# Visualize the optimized circuit\n",
    "print(\"Optimized Circuit:\")\n",
    "optimized_qc.draw('mpl')"
   ]
  },
  {
   "cell_type": "markdown",
   "metadata": {},
   "source": [
    "### Example: Circuit Rewriting\n",
    "\n",
    "Let's demonstrate circuit rewriting using Qiskit."
   ]
  },
  {
   "cell_type": "code",
   "execution_count": 35,
   "metadata": {},
   "outputs": [
    {
     "name": "stdout",
     "output_type": "stream",
     "text": [
      "Original Circuit:\n"
     ]
    },
    {
     "data": {
      "image/png": "[encoded data removed]",
      "text/plain": [
       "<Figure size 352.675x117.056 with 1 Axes>"
      ]
     },
     "execution_count": 35,
     "metadata": {},
     "output_type": "execute_result"
    }
   ],
   "source": [
    "from qiskit import QuantumCircuit\n",
    "\n",
    "# Create a quantum circuit with a specific structure\n",
    "qc = QuantumCircuit(1)\n",
    "qc.h(0)\n",
    "qc.s(0)\n",
    "qc.h(0)\n",
    "\n",
    "# Visualize the original circuit\n",
    "print(\"Original Circuit:\")\n",
    "qc.draw('mpl')"
   ]
  },
  {
   "cell_type": "code",
   "execution_count": 36,
   "metadata": {},
   "outputs": [
    {
     "name": "stdout",
     "output_type": "stream",
     "text": [
      "Optimized Circuit:\n"
     ]
    },
    {
     "data": {
      "image/png": "[encoded data removed]",
      "text/plain": [
       "<Figure size 185.453x117.056 with 1 Axes>"
      ]
     },
     "execution_count": 36,
     "metadata": {},
     "output_type": "execute_result"
    }
   ],
   "source": [
    "# Optimize the circuit by rewriting it using different gates\n",
    "optimized_qc = QuantumCircuit(1)\n",
    "optimized_qc.rx(3.14159/2, 0)  # Replace H-S-H with a single Rx(pi/2) gate\n",
    "\n",
    "# Visualize the optimized circuit\n",
    "print(\"Optimized Circuit:\")\n",
    "optimized_qc.draw('mpl')"
   ]
  },
  {
   "cell_type": "markdown",
   "metadata": {},
   "source": [
    "## Quantum Error Correction\n",
    "\n",
    "Quantum error correction is crucial for protecting quantum information from errors due to decoherence and other quantum noise.\n",
    "\n",
    "### Example: Implementing a Simple Error Correction Code\n",
    "\n",
    "Let's implement a simple three-qubit bit-flip code using Qiskit."
   ]
  },
  {
   "cell_type": "code",
   "execution_count": 6,
   "metadata": {},
   "outputs": [
    {
     "data": {
      "image/png": "[encoded data removed]",
      "text/plain": [
       "<Figure size 621.941x367.889 with 1 Axes>"
      ]
     },
     "execution_count": 6,
     "metadata": {},
     "output_type": "execute_result"
    }
   ],
   "source": [
    "from qiskit import QuantumCircuit\n",
    "from qiskit_aer import AerSimulator\n",
    "\n",
    "# Create a quantum circuit for the three-qubit bit-flip code\n",
    "qc = QuantumCircuit(3, 1)\n",
    "\n",
    "# Encode the logical qubit\n",
    "qc.cx(0, 1)\n",
    "qc.cx(0, 2)\n",
    "\n",
    "# Introduce an error (X gate on the second qubit)\n",
    "qc.x(1)\n",
    "\n",
    "# Decode the logical qubit\n",
    "qc.cx(0, 1)\n",
    "qc.cx(0, 2)\n",
    "qc.ccx(1, 2, 0)\n",
    "\n",
    "\n",
    "# Visualize the circuit\n",
    "qc.draw('mpl')\n"
   ]
  },
  {
   "cell_type": "code",
   "execution_count": 7,
   "metadata": {},
   "outputs": [
    {
     "name": "stdout",
     "output_type": "stream",
     "text": [
      "Measurement results: {'0': 1024}\n"
     ]
    }
   ],
   "source": [
    "# Measure the logical qubit\n",
    "qc.measure(0, 0)\n",
    "\n",
    "# Simulate the circuit\n",
    "simulator = AerSimulator()\n",
    "result = simulator.run(qc).result()\n",
    "counts = result.get_counts(qc)\n",
    "print(\"Measurement results:\", counts)"
   ]
  },
  {
   "cell_type": "markdown",
   "metadata": {},
   "source": [
    "The measurement results {'0': 1024} mean that in all 1024 runs of the circuit, the first qubit was measured in the state |0⟩. This indicates that the error correction process was successful, and the logical qubit was correctly restored to its original state |0⟩ despite the introduced error."
   ]
  },
  {
   "cell_type": "markdown",
   "metadata": {},
   "source": [
    "### Common Quantum Error Correction Codes\n",
    "\n",
    "1. **Shor Code**: Encodes one qubit into nine qubits to correct arbitrary single-qubit errors.\n",
    "2. **Steane Code**: Encodes one qubit into seven qubits to correct single-qubit errors."
   ]
  },
  {
   "cell_type": "markdown",
   "metadata": {},
   "source": [
    "### Example: Implementing Shors Code\n",
    "\n",
    "Shor's code encodes one qubit into nine qubits to correct arbitrary single-qubit errors. Here is an example of how to implement Shor's code on a given circuit."
   ]
  },
  {
   "cell_type": "code",
   "execution_count": 39,
   "metadata": {},
   "outputs": [
    {
     "name": "stdout",
     "output_type": "stream",
     "text": [
      "Measurement results: {'0': 1024}\n"
     ]
    }
   ],
   "source": [
    "from qiskit import QuantumCircuit, transpile\n",
    "from qiskit_aer import AerSimulator\n",
    "\n",
    "# Create a quantum circuit for Shor's code\n",
    "shor_qc = QuantumCircuit(9, 1)\n",
    "\n",
    "# Encode the logical qubit |0⟩ into Shor's code\n",
    "shor_qc.h(0)\n",
    "shor_qc.cx(0, 3)\n",
    "shor_qc.cx(0, 6)\n",
    "shor_qc.cx(3, 4)\n",
    "shor_qc.cx(3, 5)\n",
    "shor_qc.cx(6, 7)\n",
    "shor_qc.cx(6, 8)\n",
    "\n",
    "# Introduce an error (X gate) on qubit 0\n",
    "shor_qc.x(0)\n",
    "\n",
    "# Decode the logical qubit\n",
    "shor_qc.cx(6, 8)\n",
    "shor_qc.cx(6, 7)\n",
    "shor_qc.cx(3, 5)\n",
    "shor_qc.cx(3, 4)\n",
    "shor_qc.cx(0, 6)\n",
    "shor_qc.cx(0, 3)\n",
    "shor_qc.h(0)\n",
    "\n",
    "# Measure the logical qubit\n",
    "shor_qc.measure(0, 0)\n",
    "\n",
    "# Simulate the circuit\n",
    "simulator = AerSimulator()\n",
    "compiled_circuit = transpile(shor_qc, simulator)\n",
    "result = simulator.run(compiled_circuit).result()\n",
    "counts = result.get_counts()\n",
    "print(\"Measurement results:\", counts)"
   ]
  },
  {
   "cell_type": "markdown",
   "metadata": {},
   "source": [
    "### Example: Implementing Steanes Code\n",
    "\n",
    "Steane's code encodes one qubit into seven qubits to correct arbitrary single-qubit errors. Here is an example of how to implement Steane's code on a given circuit."
   ]
  },
  {
   "cell_type": "code",
   "execution_count": 40,
   "metadata": {},
   "outputs": [
    {
     "name": "stdout",
     "output_type": "stream",
     "text": [
      "Measurement results: {'0': 1024}\n"
     ]
    }
   ],
   "source": [
    "from qiskit import QuantumCircuit, transpile\n",
    "from qiskit_aer import AerSimulator\n",
    "\n",
    "# Create a quantum circuit for Steane's code\n",
    "steane_qc = QuantumCircuit(7, 1)\n",
    "\n",
    "# Encode the logical qubit |0⟩ into Steane's code\n",
    "steane_qc.h(0)\n",
    "steane_qc.cx(0, 3)\n",
    "steane_qc.cx(0, 5)\n",
    "steane_qc.cx(3, 1)\n",
    "steane_qc.cx(3, 6)\n",
    "steane_qc.cx(5, 2)\n",
    "steane_qc.cx(5, 4)\n",
    "\n",
    "# Introduce an error (X gate) on qubit 0\n",
    "steane_qc.x(0)\n",
    "\n",
    "# Decode the logical qubit\n",
    "steane_qc.cx(5, 4)\n",
    "steane_qc.cx(5, 2)\n",
    "steane_qc.cx(3, 6)\n",
    "steane_qc.cx(3, 1)\n",
    "steane_qc.cx(0, 5)\n",
    "steane_qc.cx(0, 3)\n",
    "steane_qc.h(0)\n",
    "\n",
    "# Measure the logical qubit\n",
    "steane_qc.measure(0, 0)\n",
    "\n",
    "# Simulate the circuit\n",
    "simulator = AerSimulator()\n",
    "compiled_circuit = transpile(steane_qc, simulator)\n",
    "result = simulator.run(compiled_circuit).result()\n",
    "counts = result.get_counts()\n",
    "print(\"Measurement results:\", counts)"
   ]
  },
  {
   "cell_type": "markdown",
   "metadata": {},
   "source": [
    "## Advanced Quantum Gates\n",
    "\n",
    "Advanced quantum gates are essential for building complex quantum circuits. Here, we will explore some of these gates."
   ]
  },
  {
   "cell_type": "markdown",
   "metadata": {},
   "source": [
    "### Toffoli Gate (CCX)\n",
    "\n",
    "The Toffoli gate is a three-qubit gate that flips the state of the target qubit if both control qubits are in state |1>.\n",
    "\n",
    "### Example: Toffoli Gate\n",
    "\n",
    "Let's implement the Toffoli gate using Qiskit."
   ]
  },
  {
   "cell_type": "code",
   "execution_count": 41,
   "metadata": {},
   "outputs": [
    {
     "data": {
      "image/png": "[encoded data removed]",
      "text/plain": [
       "<Figure size 203.885x284.278 with 1 Axes>"
      ]
     },
     "execution_count": 41,
     "metadata": {},
     "output_type": "execute_result"
    }
   ],
   "source": [
    "from qiskit import QuantumCircuit\n",
    "\n",
    "# Create a quantum circuit with three qubits\n",
    "qc = QuantumCircuit(3)\n",
    "\n",
    "# Apply the Toffoli gate (CCX)\n",
    "qc.ccx(0, 1, 2)\n",
    "\n",
    "# Visualize the circuit\n",
    "qc.draw('mpl')"
   ]
  },
  {
   "cell_type": "markdown",
   "metadata": {},
   "source": [
    "### Fredkin Gate (CSWAP)\n",
    "\n",
    "The Fredkin gate is a three-qubit gate that swaps the states of the second and third qubits if the first qubit is in state |1>.\n",
    "\n",
    "### Example: Fredkin Gate\n",
    "\n",
    "Let's implement the Fredkin gate using Qiskit."
   ]
  },
  {
   "cell_type": "code",
   "execution_count": 42,
   "metadata": {},
   "outputs": [
    {
     "data": {
      "image/png": "[encoded data removed]",
      "text/plain": [
       "<Figure size 203.885x284.278 with 1 Axes>"
      ]
     },
     "execution_count": 42,
     "metadata": {},
     "output_type": "execute_result"
    }
   ],
   "source": [
    "from qiskit import QuantumCircuit\n",
    "\n",
    "# Create a quantum circuit with three qubits\n",
    "qc = QuantumCircuit(3)\n",
    "\n",
    "# Apply the Fredkin gate (CSWAP)\n",
    "qc.cswap(0, 1, 2)\n",
    "\n",
    "# Visualize the circuit\n",
    "qc.draw('mpl')"
   ]
  },
  {
   "cell_type": "markdown",
   "metadata": {},
   "source": [
    "### Multi-Control Gates\n",
    "\n",
    "Multi-control gates have more than one control qubit and are used for complex operations.\n",
    "\n",
    "### Example: Multi-Control Gate\n",
    "\n",
    "Let's implement the Multi-Control gate using Qiskit."
   ]
  },
  {
   "cell_type": "code",
   "execution_count": 43,
   "metadata": {},
   "outputs": [
    {
     "data": {
      "image/png": "[encoded data removed]",
      "text/plain": [
       "<Figure size 203.885x284.278 with 1 Axes>"
      ]
     },
     "execution_count": 43,
     "metadata": {},
     "output_type": "execute_result"
    }
   ],
   "source": [
    "from qiskit import QuantumCircuit\n",
    "\n",
    "# Create a quantum circuit with three qubits\n",
    "qc = QuantumCircuit(3)\n",
    "\n",
    "# Apply a multi-controlled X gate (MCX)\n",
    "qc.mcx([0, 1], 2)\n",
    "\n",
    "# Visualize the circuit\n",
    "qc.draw('mpl')"
   ]
  },
  {
   "cell_type": "markdown",
   "metadata": {},
   "source": [
    "## Universal Gate Sets\n",
    "\n",
    "A universal gate set is a set of quantum gates that can be used to approximate any unitary operation to arbitrary precision. Universal gate sets are essential for building general-purpose quantum computers.\n",
    "\n",
    "### Examples of Universal Gate Sets\n",
    "\n",
    "1. **Clifford+T Gate Set**\n",
    "   - Consists of the Clifford gates (H, S, CNOT) and the T gate.\n",
    "   - Proven to be universal for quantum computation.\n",
    "\n",
    "2. **{H, T, CNOT} Gate Set**\n",
    "   - Another common universal gate set.\n",
    "   - Includes the Hadamard gate (H), the π/8 gate (T), and the CNOT gate.\n",
    "\n",
    "3. **{X, Y, Z, H, S, T, CNOT} Gate Set**\n",
    "   - A more comprehensive universal gate set.\n",
    "   - Includes the Pauli gates (X, Y, Z), the Hadamard gate (H), the phase gate (S), the π/8 gate (T), and the CNOT gate.\n",
    "\n",
    "### Proof of Universality\n",
    "\n",
    "To prove that a gate set is universal, we need to show that any unitary operation can be approximated using a finite sequence of gates from the set. This involves demonstrating that the gate set can generate a dense subset of the unitary group."
   ]
  },
  {
   "cell_type": "markdown",
   "metadata": {},
   "source": [
    "## Example: Universal Gate Set Implementation\n",
    "\n",
    "Let's implement a universal gate set in Qiskit and create a simple quantum circuit using this gate set.\n",
    "\n",
    "### Implementing the {H, T, CNOT} Gate Set\n",
    "\n",
    "We will use the Hadamard gate (H), the π/8 gate (T), and the CNOT gate to create a simple quantum circuit."
   ]
  },
  {
   "cell_type": "code",
   "execution_count": 44,
   "metadata": {},
   "outputs": [
    {
     "data": {
      "image/png": "[encoded data removed]",
      "text/plain": [
       "<Figure size 370.906x200.667 with 1 Axes>"
      ]
     },
     "execution_count": 44,
     "metadata": {},
     "output_type": "execute_result"
    }
   ],
   "source": [
    "from qiskit import QuantumCircuit\n",
    "\n",
    "# Create a quantum circuit with two qubits\n",
    "qc = QuantumCircuit(2)\n",
    "\n",
    "# Apply a Hadamard gate to the first qubit\n",
    "qc.h(0)\n",
    "\n",
    "# Apply a T gate to the first qubit\n",
    "qc.t(0)\n",
    "\n",
    "# Apply a CNOT gate with the first qubit as control and the second qubit as target\n",
    "qc.cx(0, 1)\n",
    "\n",
    "# Visualize the circuit\n",
    "qc.draw('mpl')"
   ]
  },
  {
   "cell_type": "markdown",
   "metadata": {},
   "source": [
    "## Quantum Circuit Simulation\n",
    "\n",
    "Quantum circuits can be used to simulate physical systems. Here, we will simulate a simple molecule.\n",
    "\n",
    "### Example: Simulating a Simple Molecule\n",
    "\n",
    "Let's simulate the hydrogen molecule using Qiskit."
   ]
  },
  {
   "cell_type": "code",
   "execution_count": 26,
   "metadata": {},
   "outputs": [
    {
     "data": {
      "image/png": "[encoded data removed]",
      "text/plain": [
       "<Figure size 538.128x200.667 with 1 Axes>"
      ]
     },
     "execution_count": 26,
     "metadata": {},
     "output_type": "execute_result"
    }
   ],
   "source": [
    "from qiskit import QuantumCircuit, transpile\n",
    "from qiskit_aer import AerSimulator, StatevectorSimulator\n",
    "\n",
    "# Create a quantum circuit to simulate the hydrogen molecule\n",
    "qc = QuantumCircuit(2)\n",
    "\n",
    "# Apply gates to simulate the molecule\n",
    "qc.h(0)\n",
    "qc.cx(0, 1)\n",
    "qc.p(1.0, 0)\n",
    "qc.cx(0, 1)\n",
    "qc.h(0)\n",
    "\n",
    "# Visualize the circuit\n",
    "qc.draw('mpl')"
   ]
  },
  {
   "cell_type": "code",
   "execution_count": 30,
   "metadata": {},
   "outputs": [
    {
     "name": "stdout",
     "output_type": "stream",
     "text": [
      "Statevector: Statevector([0.77015115+0.42073549j, 0.22984885-0.42073549j,\n",
      "             0.        +0.j        , 0.        +0.j        ],\n",
      "            dims=(2, 2))\n"
     ]
    }
   ],
   "source": [
    "# Simulate the circuit using StatevectorSimulator\n",
    "simulator = StatevectorSimulator()\n",
    "\n",
    "# Transpile the circuit for the simulator\n",
    "compiled_circuit = transpile(qc, simulator)\n",
    "\n",
    "# Execute the circuit on the statevector simulator\n",
    "result = simulator.run(compiled_circuit).result()\n",
    "statevector = result.get_statevector(compiled_circuit)\n",
    "print(\"Statevector:\", statevector)"
   ]
  },
  {
   "cell_type": "markdown",
   "metadata": {},
   "source": [
    "### Statevector Interpretation\n",
    "\n",
    "The statevector indicates that after applying the gates in the quantum circuit, the system is in a superposition of the states |00⟩ and |01⟩. The statevector is:\n",
    "\n",
    "#### Basis States and Amplitudes\n",
    "- |00⟩: `0.77015115 + 0.42073549j`\n",
    "- |01⟩: `0.22984885 - 0.42073549j`\n",
    "- |10⟩: `0.0 + 0.0j`\n",
    "- |11⟩: `0.0 + 0.0j`\n",
    "\n",
    "#### Probabilities\n",
    "The probability of measuring a particular basis state is the square of the magnitude of its amplitude.\n",
    "\n",
    "- **Probability of |00⟩**:\n",
    "|0.77015115 + 0.42073549j|^2 = 0.77015115^2 + 0.42073549^2 ≈ 0.75\n",
    "- **Probability of |01⟩**:\n",
    "|0.22984885 - 0.42073549j|^2 = 0.22984885^2 + 0.42073549^2 ≈ 0.25\n",
    "- **Probability of |10⟩**:\n",
    "|0.0 + 0.0j|^2 = 0\n",
    "- **Probability of |11⟩**:\n",
    "0.0 + 0.0j|^2 = 0\n",
    "\n",
    "\n",
    "### Summary\n",
    "The statevector indicates that after applying the gates in the quantum circuit, the system is in a superposition of the states |00⟩ and |01⟩, with probabilities of approximately 75% and 25%, respectively. The states |10⟩ and |11⟩ have zero probability of being measured. This information provides insight into the behavior and outcome of the quantum circuit.\n"
   ]
  }
 ],
 "metadata": {
  "kernelspec": {
   "display_name": "Python 3",
   "language": "python",
   "name": "python3"
  },
  "language_info": {
   "codemirror_mode": {
    "name": "ipython",
    "version": 3
   },
   "file_extension": ".py",
   "mimetype": "text/x-python",
   "name": "python",
   "nbconvert_exporter": "python",
   "pygments_lexer": "ipython3",
   "version": "3.11.9"
  }
 },
 "nbformat": 4,
 "nbformat_minor": 2
}
